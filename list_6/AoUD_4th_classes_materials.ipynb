{
 "cells": [
  {
   "cell_type": "code",
   "execution_count": 1,
   "metadata": {
    "colab": {
     "base_uri": "https://localhost:8080/"
    },
    "id": "OmCJtxePBSGI",
    "outputId": "da8d1374-164e-44d4-ee6d-a4ffd2d49a1f"
   },
   "outputs": [
    {
     "name": "stderr",
     "output_type": "stream",
     "text": [
      "[nltk_data] Downloading collection 'popular'\n",
      "[nltk_data]    | \n",
      "[nltk_data]    | Downloading package cmudict to\n",
      "[nltk_data]    |     C:\\Users\\patry\\AppData\\Roaming\\nltk_data...\n",
      "[nltk_data]    |   Unzipping corpora\\cmudict.zip.\n",
      "[nltk_data]    | Downloading package gazetteers to\n",
      "[nltk_data]    |     C:\\Users\\patry\\AppData\\Roaming\\nltk_data...\n",
      "[nltk_data]    |   Unzipping corpora\\gazetteers.zip.\n",
      "[nltk_data]    | Downloading package genesis to\n",
      "[nltk_data]    |     C:\\Users\\patry\\AppData\\Roaming\\nltk_data...\n",
      "[nltk_data]    |   Unzipping corpora\\genesis.zip.\n",
      "[nltk_data]    | Downloading package gutenberg to\n",
      "[nltk_data]    |     C:\\Users\\patry\\AppData\\Roaming\\nltk_data...\n",
      "[nltk_data]    |   Unzipping corpora\\gutenberg.zip.\n",
      "[nltk_data]    | Downloading package inaugural to\n",
      "[nltk_data]    |     C:\\Users\\patry\\AppData\\Roaming\\nltk_data...\n",
      "[nltk_data]    |   Unzipping corpora\\inaugural.zip.\n",
      "[nltk_data]    | Downloading package movie_reviews to\n",
      "[nltk_data]    |     C:\\Users\\patry\\AppData\\Roaming\\nltk_data...\n",
      "[nltk_data]    |   Unzipping corpora\\movie_reviews.zip.\n",
      "[nltk_data]    | Downloading package names to\n",
      "[nltk_data]    |     C:\\Users\\patry\\AppData\\Roaming\\nltk_data...\n",
      "[nltk_data]    |   Unzipping corpora\\names.zip.\n",
      "[nltk_data]    | Downloading package shakespeare to\n",
      "[nltk_data]    |     C:\\Users\\patry\\AppData\\Roaming\\nltk_data...\n",
      "[nltk_data]    |   Unzipping corpora\\shakespeare.zip.\n",
      "[nltk_data]    | Downloading package stopwords to\n",
      "[nltk_data]    |     C:\\Users\\patry\\AppData\\Roaming\\nltk_data...\n",
      "[nltk_data]    |   Unzipping corpora\\stopwords.zip.\n",
      "[nltk_data]    | Downloading package treebank to\n",
      "[nltk_data]    |     C:\\Users\\patry\\AppData\\Roaming\\nltk_data...\n",
      "[nltk_data]    |   Unzipping corpora\\treebank.zip.\n",
      "[nltk_data]    | Downloading package twitter_samples to\n",
      "[nltk_data]    |     C:\\Users\\patry\\AppData\\Roaming\\nltk_data...\n",
      "[nltk_data]    |   Unzipping corpora\\twitter_samples.zip.\n",
      "[nltk_data]    | Downloading package omw to\n",
      "[nltk_data]    |     C:\\Users\\patry\\AppData\\Roaming\\nltk_data...\n",
      "[nltk_data]    |   Unzipping corpora\\omw.zip.\n",
      "[nltk_data]    | Downloading package wordnet to\n",
      "[nltk_data]    |     C:\\Users\\patry\\AppData\\Roaming\\nltk_data...\n",
      "[nltk_data]    |   Unzipping corpora\\wordnet.zip.\n",
      "[nltk_data]    | Downloading package wordnet31 to\n",
      "[nltk_data]    |     C:\\Users\\patry\\AppData\\Roaming\\nltk_data...\n",
      "[nltk_data]    |   Unzipping corpora\\wordnet31.zip.\n",
      "[nltk_data]    | Downloading package wordnet_ic to\n",
      "[nltk_data]    |     C:\\Users\\patry\\AppData\\Roaming\\nltk_data...\n",
      "[nltk_data]    |   Unzipping corpora\\wordnet_ic.zip.\n",
      "[nltk_data]    | Downloading package words to\n",
      "[nltk_data]    |     C:\\Users\\patry\\AppData\\Roaming\\nltk_data...\n",
      "[nltk_data]    |   Unzipping corpora\\words.zip.\n",
      "[nltk_data]    | Downloading package maxent_ne_chunker to\n",
      "[nltk_data]    |     C:\\Users\\patry\\AppData\\Roaming\\nltk_data...\n",
      "[nltk_data]    |   Unzipping chunkers\\maxent_ne_chunker.zip.\n",
      "[nltk_data]    | Downloading package punkt to\n",
      "[nltk_data]    |     C:\\Users\\patry\\AppData\\Roaming\\nltk_data...\n",
      "[nltk_data]    |   Package punkt is already up-to-date!\n",
      "[nltk_data]    | Downloading package snowball_data to\n",
      "[nltk_data]    |     C:\\Users\\patry\\AppData\\Roaming\\nltk_data...\n",
      "[nltk_data]    | Downloading package averaged_perceptron_tagger to\n",
      "[nltk_data]    |     C:\\Users\\patry\\AppData\\Roaming\\nltk_data...\n",
      "[nltk_data]    |   Unzipping taggers\\averaged_perceptron_tagger.zip.\n",
      "[nltk_data]    | \n",
      "[nltk_data]  Done downloading collection popular\n"
     ]
    },
    {
     "data": {
      "text/plain": [
       "True"
      ]
     },
     "execution_count": 1,
     "metadata": {},
     "output_type": "execute_result"
    }
   ],
   "source": [
    "import nltk\n",
    "nltk.download('popular')"
   ]
  },
  {
   "cell_type": "markdown",
   "metadata": {
    "id": "BGuTvXPzBSGW"
   },
   "source": [
    "#  Text definition"
   ]
  },
  {
   "cell_type": "code",
   "execution_count": 74,
   "metadata": {
    "id": "r9Nb_YJOBSGY"
   },
   "outputs": [],
   "source": [
    "text = \"This is a sample sentence, showing off the stop words filtration and other methods which can help during text processing.\""
   ]
  },
  {
   "cell_type": "code",
   "execution_count": 75,
   "metadata": {
    "colab": {
     "base_uri": "https://localhost:8080/",
     "height": 35
    },
    "id": "Zxqh5gqEBSGk",
    "outputId": "d4e2f1f0-56be-4bee-d4de-8905a58b0633"
   },
   "outputs": [
    {
     "data": {
      "text/plain": [
       "'This is a sample sentence, showing off the stop words filtration and other methods which can help during text processing.'"
      ]
     },
     "execution_count": 75,
     "metadata": {},
     "output_type": "execute_result"
    }
   ],
   "source": [
    "text"
   ]
  },
  {
   "cell_type": "markdown",
   "metadata": {
    "id": "eFlTFXY6BSGw"
   },
   "source": [
    "# Text cleaning - methods"
   ]
  },
  {
   "cell_type": "markdown",
   "metadata": {
    "id": "buKbTrieBSGy"
   },
   "source": [
    "## NLTK - library"
   ]
  },
  {
   "cell_type": "markdown",
   "metadata": {
    "id": "yO5vP5fJBSG0"
   },
   "source": [
    "### Tokenization\n",
    "\n",
    "A tokenizer divides a string into substrings by splitting on the specified string (defined in subclasses).\n",
    "https://www.nltk.org/api/nltk.tokenize.html"
   ]
  },
  {
   "cell_type": "code",
   "execution_count": 4,
   "metadata": {
    "id": "Ct8JQT_YBSG3"
   },
   "outputs": [],
   "source": [
    "from nltk.tokenize import RegexpTokenizer,word_tokenize,sent_tokenize"
   ]
  },
  {
   "cell_type": "code",
   "execution_count": 76,
   "metadata": {
    "id": "k4DXb4ldBSHG"
   },
   "outputs": [],
   "source": [
    "Tokenizer = RegexpTokenizer(r\"[A-Za-z0-9-]+\")\n",
    "separated_text = Tokenizer.tokenize(text)"
   ]
  },
  {
   "cell_type": "markdown",
   "metadata": {
    "id": "_t88ixsEBSHS"
   },
   "source": [
    "A RegexpTokenizer splits a string into substrings using a regular expression. \n",
    "For example, the following tokenizer forms tokens out of alphabetic sequences, number sequances."
   ]
  },
  {
   "cell_type": "code",
   "execution_count": 77,
   "metadata": {
    "colab": {
     "base_uri": "https://localhost:8080/"
    },
    "id": "931iK7p9BSHT",
    "outputId": "0df4c733-70da-4265-b7cc-318acaefa4f2"
   },
   "outputs": [
    {
     "data": {
      "text/plain": [
       "['This',\n",
       " 'is',\n",
       " 'a',\n",
       " 'sample',\n",
       " 'sentence',\n",
       " 'showing',\n",
       " 'off',\n",
       " 'the',\n",
       " 'stop',\n",
       " 'words',\n",
       " 'filtration',\n",
       " 'and',\n",
       " 'other',\n",
       " 'methods',\n",
       " 'which',\n",
       " 'can',\n",
       " 'help',\n",
       " 'during',\n",
       " 'text',\n",
       " 'processing']"
      ]
     },
     "execution_count": 77,
     "metadata": {},
     "output_type": "execute_result"
    }
   ],
   "source": [
    "separated_text"
   ]
  },
  {
   "cell_type": "code",
   "execution_count": 78,
   "metadata": {
    "colab": {
     "base_uri": "https://localhost:8080/"
    },
    "id": "IXJOINlVBSHa",
    "outputId": "4a33d9cb-3a9d-4696-964a-a55ac9c85533"
   },
   "outputs": [
    {
     "data": {
      "text/plain": [
       "['This',\n",
       " 'is',\n",
       " 'a',\n",
       " 'sample',\n",
       " 'sentence',\n",
       " ',',\n",
       " 'showing',\n",
       " 'off',\n",
       " 'the',\n",
       " 'stop',\n",
       " 'words',\n",
       " 'filtration',\n",
       " 'and',\n",
       " 'other',\n",
       " 'methods',\n",
       " 'which',\n",
       " 'can',\n",
       " 'help',\n",
       " 'during',\n",
       " 'text',\n",
       " 'processing',\n",
       " '.']"
      ]
     },
     "execution_count": 78,
     "metadata": {},
     "output_type": "execute_result"
    }
   ],
   "source": [
    "separated_text2 = word_tokenize(text)\n",
    "separated_text2"
   ]
  },
  {
   "cell_type": "markdown",
   "metadata": {
    "id": "PNfsdeAKBSHj"
   },
   "source": [
    "### Stop words removing"
   ]
  },
  {
   "cell_type": "markdown",
   "metadata": {
    "id": "CSWMfjGeBSHk"
   },
   "source": [
    "A stop word is a commonly used word (such as “the”, “a”, “an”, “in”) that usually should be programmed to ignore."
   ]
  },
  {
   "cell_type": "code",
   "execution_count": 8,
   "metadata": {
    "id": "vxzfMo2sBSHm"
   },
   "outputs": [],
   "source": [
    "from nltk.corpus import stopwords\n",
    "eng_stopwords = stopwords.words(\"english\")"
   ]
  },
  {
   "cell_type": "code",
   "execution_count": 79,
   "metadata": {
    "id": "VBGS6OdrBSHu"
   },
   "outputs": [],
   "source": [
    "separated_text_cleaned = [word for word in separated_text if word.lower() not in eng_stopwords]"
   ]
  },
  {
   "cell_type": "code",
   "execution_count": 80,
   "metadata": {
    "colab": {
     "base_uri": "https://localhost:8080/"
    },
    "id": "mtSVXCL9BSH0",
    "outputId": "5a13cd10-c25d-4805-cd89-93c101e2d97c"
   },
   "outputs": [
    {
     "data": {
      "text/plain": [
       "['sample',\n",
       " 'sentence',\n",
       " 'showing',\n",
       " 'stop',\n",
       " 'words',\n",
       " 'filtration',\n",
       " 'methods',\n",
       " 'help',\n",
       " 'text',\n",
       " 'processing']"
      ]
     },
     "execution_count": 80,
     "metadata": {},
     "output_type": "execute_result"
    }
   ],
   "source": [
    "separated_text_cleaned"
   ]
  },
  {
   "cell_type": "markdown",
   "metadata": {
    "id": "64Znl2xLBSH4"
   },
   "source": [
    "### Tagging"
   ]
  },
  {
   "cell_type": "markdown",
   "metadata": {
    "id": "PoHalJakBSH5"
   },
   "source": [
    "Interface for tagging each token in a sentence with supplementary information, such as its part of speech."
   ]
  },
  {
   "cell_type": "markdown",
   "metadata": {
    "id": "eMg87K6dBSH6"
   },
   "source": [
    "POS tag list:\n",
    "\n",
    "CC\tcoordinating conjunction <br>\n",
    "CD\tcardinal digit<br>\n",
    "DT\tdeterminer<br>\n",
    "EX\texistential there (like: \"there is\" ... think of it like \"there exists\")<br>\n",
    "FW\tforeign word<br>\n",
    "IN\tpreposition/subordinating conjunction<br>\n",
    "JJ\tadjective\t'big'<br>\n",
    "JJR\tadjective, comparative\t'bigger'<br>\n",
    "JJS\tadjective, superlative\t'biggest'<br>\n",
    "LS\tlist marker\t1)<br>\n",
    "MD\tmodal\tcould, will<br>\n",
    "NN\tnoun, singular 'desk'<br>\n",
    "NNS\tnoun plural\t'desks'<br>\n",
    "NNP\tproper noun, singular\t'Harrison'<br>\n",
    "NNPS\tproper noun, plural\t'Americans'<br>\n",
    "PDT\tpredeterminer\t'all the kids'<br>\n",
    "POS\tpossessive ending\tparent\\'s<br>\n",
    "PRP\tpersonal pronoun\tI, he, she<br>\n",
    "PRP$\tpossessive pronoun\tmy, his, hers<br>\n",
    "RB\tadverb\tvery, silently,<br>\n",
    "RBR\tadverb, comparative\tbetter<br>\n",
    "RBS\tadverb, superlative\tbest<br>\n",
    "RP\tparticle\tgive up<br>\n",
    "TO\tto\tgo 'to' the store.<br>\n",
    "UH\tinterjection\terrrrrrrrm<br>\n",
    "VB\tverb, base form\ttake<br>\n",
    "VBD\tverb, past tense\ttook<br>\n",
    "VBG\tverb, gerund/present participle\ttaking<br>\n",
    "VBN\tverb, past participle\ttaken<br>\n",
    "VBP\tverb, sing. present, non-3d\ttake<br>\n",
    "VBZ\tverb, 3rd person sing. present\ttakes<br>\n",
    "WDT\twh-determiner\twhich<br>\n",
    "WP\twh-pronoun\twho, what<br>\n",
    "WP(+ dolar sign)\tpossessive wh-pronoun\twhose<br>\n",
    "WRB\twh-abverb\twhere, when<br>"
   ]
  },
  {
   "cell_type": "code",
   "execution_count": 11,
   "metadata": {
    "id": "1r5FFTbgBSH8"
   },
   "outputs": [],
   "source": [
    "from nltk import pos_tag\n",
    "tagged_text = pos_tag(separated_text_cleaned)"
   ]
  },
  {
   "cell_type": "code",
   "execution_count": 12,
   "metadata": {
    "colab": {
     "base_uri": "https://localhost:8080/"
    },
    "id": "9FEc3zaLBSII",
    "outputId": "66bd7e14-4763-41e3-b67a-aec6f64429fc"
   },
   "outputs": [
    {
     "data": {
      "text/plain": [
       "[('sample', 'JJ'),\n",
       " ('sentence', 'NN'),\n",
       " ('showing', 'VBG'),\n",
       " ('stop', 'JJ'),\n",
       " ('words', 'NNS'),\n",
       " ('filtration', 'NN'),\n",
       " ('methods', 'NNS'),\n",
       " ('help', 'VBP'),\n",
       " ('text', 'VB'),\n",
       " ('processing', 'NN')]"
      ]
     },
     "execution_count": 12,
     "metadata": {},
     "output_type": "execute_result"
    }
   ],
   "source": [
    "tagged_text"
   ]
  },
  {
   "cell_type": "code",
   "execution_count": 13,
   "metadata": {
    "colab": {
     "base_uri": "https://localhost:8080/"
    },
    "id": "A-hvGfKiBSIe",
    "outputId": "5552214b-d3cc-49bf-a47c-831d8775fcc3"
   },
   "outputs": [
    {
     "data": {
      "text/plain": [
       "[('This', 'DT'),\n",
       " ('is', 'VBZ'),\n",
       " ('a', 'DT'),\n",
       " ('sample', 'JJ'),\n",
       " ('sentence', 'NN'),\n",
       " (',', ','),\n",
       " ('showing', 'VBG'),\n",
       " ('off', 'RP'),\n",
       " ('the', 'DT'),\n",
       " ('stop', 'NN'),\n",
       " ('words', 'NNS'),\n",
       " ('filtration', 'NN'),\n",
       " ('and', 'CC'),\n",
       " ('other', 'JJ'),\n",
       " ('methods', 'NNS'),\n",
       " ('which', 'WDT'),\n",
       " ('can', 'MD'),\n",
       " ('help', 'VB'),\n",
       " ('during', 'IN'),\n",
       " ('text', 'JJ'),\n",
       " ('processing', 'NN'),\n",
       " ('.', '.')]"
      ]
     },
     "execution_count": 13,
     "metadata": {},
     "output_type": "execute_result"
    }
   ],
   "source": [
    "w_text = word_tokenize(text)\n",
    "pos_tag(w_text)"
   ]
  },
  {
   "cell_type": "markdown",
   "metadata": {
    "id": "bDU7Q61yBSIq"
   },
   "source": [
    "### Stemming"
   ]
  },
  {
   "cell_type": "markdown",
   "metadata": {
    "id": "s6MzHQIbBSIt"
   },
   "source": [
    "Stemming is the process of reducing words to their root form. For example, the words “rain”, “raining” and “rained” have very similar, and in many cases, the same meaning. The process of stemming will reduce these to the root form of “rain”. "
   ]
  },
  {
   "cell_type": "code",
   "execution_count": 14,
   "metadata": {
    "id": "GgA70egeBSIv"
   },
   "outputs": [],
   "source": [
    "from nltk.stem import PorterStemmer "
   ]
  },
  {
   "cell_type": "code",
   "execution_count": 15,
   "metadata": {
    "colab": {
     "base_uri": "https://localhost:8080/"
    },
    "id": "5VsqzlmwBSI1",
    "outputId": "e7e67ab2-3fa1-4b78-818a-8abff4c89ac5"
   },
   "outputs": [
    {
     "data": {
      "text/plain": [
       "['sampl',\n",
       " 'sentenc',\n",
       " 'show',\n",
       " 'stop',\n",
       " 'word',\n",
       " 'filtrat',\n",
       " 'method',\n",
       " 'help',\n",
       " 'text',\n",
       " 'process']"
      ]
     },
     "execution_count": 15,
     "metadata": {},
     "output_type": "execute_result"
    }
   ],
   "source": [
    "ps = PorterStemmer()\n",
    "text_tokens_stem = [ps.stem(i) for i in separated_text_cleaned]\n",
    "text_tokens_stem"
   ]
  },
  {
   "cell_type": "markdown",
   "metadata": {
    "id": "9g7jUgQYBSJA"
   },
   "source": [
    "### Lemmatization"
   ]
  },
  {
   "cell_type": "markdown",
   "metadata": {
    "id": "HneZk0ZSBSJC"
   },
   "source": [
    "\"The goal of lemmatization is the same as for stemming, in that it aims to reduce words to their root form. However, stemming is known to be a fairly crude method of doing this. Lemmatization, on the other hand, is a tool that performs full morphological analysis to more accurately find the root, or “lemma” for a word.\""
   ]
  },
  {
   "cell_type": "code",
   "execution_count": 16,
   "metadata": {
    "id": "ooVQIupnBSJE"
   },
   "outputs": [],
   "source": [
    "from nltk.stem import WordNetLemmatizer"
   ]
  },
  {
   "cell_type": "code",
   "execution_count": 17,
   "metadata": {
    "colab": {
     "base_uri": "https://localhost:8080/"
    },
    "id": "s91jDst7BSJR",
    "outputId": "c61444a9-08a7-40d4-8f4f-06c08a5a460b"
   },
   "outputs": [
    {
     "data": {
      "text/plain": [
       "['sample',\n",
       " 'sentence',\n",
       " 'showing',\n",
       " 'stop',\n",
       " 'word',\n",
       " 'filtration',\n",
       " 'method',\n",
       " 'help',\n",
       " 'text',\n",
       " 'processing']"
      ]
     },
     "execution_count": 17,
     "metadata": {},
     "output_type": "execute_result"
    }
   ],
   "source": [
    "wl=WordNetLemmatizer()\n",
    "text_tokens_stem = [wl.lemmatize(i) for i in separated_text_cleaned]\n",
    "text_tokens_stem"
   ]
  },
  {
   "cell_type": "code",
   "execution_count": 18,
   "metadata": {
    "colab": {
     "base_uri": "https://localhost:8080/"
    },
    "id": "juN6vu_iBSJZ",
    "outputId": "d6138008-50fd-4893-9515-62d92a373556"
   },
   "outputs": [
    {
     "data": {
      "text/plain": [
       "['sample',\n",
       " 'sentence',\n",
       " 'show',\n",
       " 'stop',\n",
       " 'word',\n",
       " 'filtration',\n",
       " 'method',\n",
       " 'help',\n",
       " 'text',\n",
       " 'processing']"
      ]
     },
     "execution_count": 18,
     "metadata": {},
     "output_type": "execute_result"
    }
   ],
   "source": [
    "def lemmatize_sentence(tokens):\n",
    "    lemmatizer = WordNetLemmatizer()\n",
    "    lemmatized_sentence = []\n",
    "    for word, tag in pos_tag(tokens):\n",
    "        if tag.startswith('NN'):\n",
    "            pos = 'n'\n",
    "        elif tag.startswith('VB'):\n",
    "            pos = 'v'\n",
    "        else:\n",
    "            pos = 'a'\n",
    "        lemmatized_sentence.append(lemmatizer.lemmatize(word, pos))\n",
    "    return lemmatized_sentence\n",
    "lemmatize_sentence(separated_text_cleaned)"
   ]
  },
  {
   "cell_type": "code",
   "execution_count": 81,
   "metadata": {
    "colab": {
     "base_uri": "https://localhost:8080/",
     "height": 35
    },
    "id": "TXN8DM2CBSJh",
    "outputId": "a37cb9f9-bfc0-48fa-d226-27ca6332f50c"
   },
   "outputs": [
    {
     "data": {
      "text/plain": [
       "'This is a sample sentence, showing off the stop words filtration and other methods which can help during text processing.'"
      ]
     },
     "execution_count": 81,
     "metadata": {},
     "output_type": "execute_result"
    }
   ],
   "source": [
    "text"
   ]
  },
  {
   "cell_type": "markdown",
   "metadata": {
    "id": "PyvPP_bmBSJq"
   },
   "source": [
    "\"NOTE: Stemming just removes or stems the last few characters of a word, often leading to incorrect meanings and spelling. Lemmatization considers the context and converts the word to its meaningful base form, which is called Lemma. Sometimes, the same word can have multiple different Lemmas.\""
   ]
  },
  {
   "cell_type": "markdown",
   "metadata": {
    "id": "LVQwSzQSBSJr"
   },
   "source": [
    "## TextBlob - library\n",
    "\n",
    "There is also another exciting library for text processing:\n",
    "\n",
    "“ TextBlob is a Python (2 and 3) library for processing textual data. It provides a simple API for diving into common natural language processing (NLP) tasks such as part-of-speech tagging, noun phrase extraction, sentiment analysis, classification, translation, and more”\n",
    "\n",
    "https://textblob.readthedocs.io/en/dev/"
   ]
  },
  {
   "cell_type": "code",
   "execution_count": 82,
   "metadata": {
    "id": "Dq8uVJ58BSJu"
   },
   "outputs": [],
   "source": [
    "from textblob import TextBlob"
   ]
  },
  {
   "cell_type": "code",
   "execution_count": 83,
   "metadata": {
    "colab": {
     "base_uri": "https://localhost:8080/"
    },
    "id": "87-Dtzm2BSJy",
    "outputId": "8569bcaf-1999-4c1d-ffc2-9c7cadec1780"
   },
   "outputs": [
    {
     "data": {
      "text/plain": [
       "TextBlob(\"This is a sample sentence, showing off the stop words filtration and other methods which can help during text processing.\")"
      ]
     },
     "execution_count": 83,
     "metadata": {},
     "output_type": "execute_result"
    }
   ],
   "source": [
    "text2 = TextBlob(text)\n",
    "text2"
   ]
  },
  {
   "cell_type": "markdown",
   "metadata": {
    "id": "PgilLTU7BSJ4"
   },
   "source": [
    "### Tagging"
   ]
  },
  {
   "cell_type": "code",
   "execution_count": 84,
   "metadata": {
    "colab": {
     "base_uri": "https://localhost:8080/"
    },
    "id": "GQjyE1V4BSJ5",
    "outputId": "1e4998f3-db49-4f9a-b541-e49c929d185c"
   },
   "outputs": [
    {
     "data": {
      "text/plain": [
       "[('This', 'DT'),\n",
       " ('is', 'VBZ'),\n",
       " ('a', 'DT'),\n",
       " ('sample', 'JJ'),\n",
       " ('sentence', 'NN'),\n",
       " ('showing', 'VBG'),\n",
       " ('off', 'RP'),\n",
       " ('the', 'DT'),\n",
       " ('stop', 'NN'),\n",
       " ('words', 'NNS'),\n",
       " ('filtration', 'NN'),\n",
       " ('and', 'CC'),\n",
       " ('other', 'JJ'),\n",
       " ('methods', 'NNS'),\n",
       " ('which', 'WDT'),\n",
       " ('can', 'MD'),\n",
       " ('help', 'VB'),\n",
       " ('during', 'IN'),\n",
       " ('text', 'JJ'),\n",
       " ('processing', 'NN')]"
      ]
     },
     "execution_count": 84,
     "metadata": {},
     "output_type": "execute_result"
    }
   ],
   "source": [
    "text2.tags"
   ]
  },
  {
   "cell_type": "markdown",
   "metadata": {
    "id": "O-FqpUrTBSKA"
   },
   "source": [
    "### Nouns extractions"
   ]
  },
  {
   "cell_type": "code",
   "execution_count": 85,
   "metadata": {
    "colab": {
     "base_uri": "https://localhost:8080/"
    },
    "id": "gN0becFkD9XX",
    "outputId": "7a15d3ec-5d23-4c97-e2fc-40e4e0e23edf"
   },
   "outputs": [
    {
     "name": "stderr",
     "output_type": "stream",
     "text": [
      "[nltk_data] Downloading package brown to\n",
      "[nltk_data]     C:\\Users\\patry\\AppData\\Roaming\\nltk_data...\n",
      "[nltk_data]   Package brown is already up-to-date!\n"
     ]
    },
    {
     "data": {
      "text/plain": [
       "True"
      ]
     },
     "execution_count": 85,
     "metadata": {},
     "output_type": "execute_result"
    }
   ],
   "source": [
    "nltk.download('brown')"
   ]
  },
  {
   "cell_type": "code",
   "execution_count": 86,
   "metadata": {
    "colab": {
     "base_uri": "https://localhost:8080/"
    },
    "id": "-GH0DFq3BSKB",
    "outputId": "97065e4d-8784-43fa-e6a1-fa3d43b71b14"
   },
   "outputs": [
    {
     "data": {
      "text/plain": [
       "WordList(['sample sentence', 'stop words filtration', 'text processing'])"
      ]
     },
     "execution_count": 86,
     "metadata": {},
     "output_type": "execute_result"
    }
   ],
   "source": [
    "text2.noun_phrases"
   ]
  },
  {
   "cell_type": "markdown",
   "metadata": {
    "id": "lylEB5CtBSKE"
   },
   "source": [
    "### Tokenization"
   ]
  },
  {
   "cell_type": "code",
   "execution_count": 87,
   "metadata": {
    "colab": {
     "base_uri": "https://localhost:8080/"
    },
    "id": "daQgBDY5BSKF",
    "outputId": "f5210739-d4f9-4f3b-e231-9219fd52957d"
   },
   "outputs": [
    {
     "data": {
      "text/plain": [
       "WordList(['This', 'is', 'a', 'sample', 'sentence', 'showing', 'off', 'the', 'stop', 'words', 'filtration', 'and', 'other', 'methods', 'which', 'can', 'help', 'during', 'text', 'processing'])"
      ]
     },
     "execution_count": 87,
     "metadata": {},
     "output_type": "execute_result"
    }
   ],
   "source": [
    "text2.words"
   ]
  },
  {
   "cell_type": "code",
   "execution_count": 88,
   "metadata": {
    "colab": {
     "base_uri": "https://localhost:8080/"
    },
    "id": "hZd5I5yABSKI",
    "outputId": "5069aec5-85bc-4de7-aea9-6758bab2162f"
   },
   "outputs": [
    {
     "data": {
      "text/plain": [
       "[Sentence(\"This is a sample sentence, showing off the stop words filtration and other methods which can help during text processing.\")]"
      ]
     },
     "execution_count": 88,
     "metadata": {},
     "output_type": "execute_result"
    }
   ],
   "source": [
    "text2.sentences"
   ]
  },
  {
   "cell_type": "markdown",
   "metadata": {
    "id": "glD93nPxBSKK"
   },
   "source": [
    "###  Singularization and pluraliziation"
   ]
  },
  {
   "cell_type": "code",
   "execution_count": 89,
   "metadata": {
    "colab": {
     "base_uri": "https://localhost:8080/"
    },
    "id": "VhhWhtNLBSKL",
    "outputId": "a107c51d-a2e5-4b3f-d261-f708fb643266"
   },
   "outputs": [
    {
     "data": {
      "text/plain": [
       "['Thi',\n",
       " 'is',\n",
       " 'a',\n",
       " 'sample',\n",
       " 'sentence',\n",
       " 'showing',\n",
       " 'off',\n",
       " 'the',\n",
       " 'stop',\n",
       " 'word',\n",
       " 'filtration',\n",
       " 'and',\n",
       " 'other',\n",
       " 'method',\n",
       " 'which',\n",
       " 'can',\n",
       " 'help',\n",
       " 'during',\n",
       " 'text',\n",
       " 'processing']"
      ]
     },
     "execution_count": 89,
     "metadata": {},
     "output_type": "execute_result"
    }
   ],
   "source": [
    "[i.singularize() for i in text2.words]"
   ]
  },
  {
   "cell_type": "code",
   "execution_count": 90,
   "metadata": {
    "colab": {
     "base_uri": "https://localhost:8080/"
    },
    "id": "bgZv1Q4PBSKN",
    "outputId": "e18def85-5420-44e5-a4bf-3507676f4598"
   },
   "outputs": [
    {
     "data": {
      "text/plain": [
       "['Thiss',\n",
       " 'iss',\n",
       " 'some',\n",
       " 'samples',\n",
       " 'sentences',\n",
       " 'showings',\n",
       " 'offs',\n",
       " 'thes',\n",
       " 'stops',\n",
       " 'wordss',\n",
       " 'filtrations',\n",
       " 'ands',\n",
       " 'others',\n",
       " 'methodss',\n",
       " 'whiches',\n",
       " 'cans',\n",
       " 'helps',\n",
       " 'durings',\n",
       " 'texts',\n",
       " 'processings']"
      ]
     },
     "execution_count": 90,
     "metadata": {},
     "output_type": "execute_result"
    }
   ],
   "source": [
    "[i.pluralize() for i in text2.words]"
   ]
  },
  {
   "cell_type": "markdown",
   "metadata": {
    "id": "KrdhbV4UBSKP"
   },
   "source": [
    "### Lemmatization"
   ]
  },
  {
   "cell_type": "code",
   "execution_count": 91,
   "metadata": {
    "colab": {
     "base_uri": "https://localhost:8080/"
    },
    "id": "sdKMPkniBSKQ",
    "outputId": "75474111-1673-4a36-8196-331f7822b586"
   },
   "outputs": [
    {
     "data": {
      "text/plain": [
       "['This',\n",
       " 'is',\n",
       " 'a',\n",
       " 'sample',\n",
       " 'sentence',\n",
       " 'showing',\n",
       " 'off',\n",
       " 'the',\n",
       " 'stop',\n",
       " 'word',\n",
       " 'filtration',\n",
       " 'and',\n",
       " 'other',\n",
       " 'method',\n",
       " 'which',\n",
       " 'can',\n",
       " 'help',\n",
       " 'during',\n",
       " 'text',\n",
       " 'processing']"
      ]
     },
     "execution_count": 91,
     "metadata": {},
     "output_type": "execute_result"
    }
   ],
   "source": [
    "from textblob import Word\n",
    "[Word(i).lemmatize() for i in text2.words]"
   ]
  },
  {
   "cell_type": "markdown",
   "metadata": {
    "id": "v28eFndJBSKS"
   },
   "source": [
    "### Text correcting"
   ]
  },
  {
   "cell_type": "code",
   "execution_count": 92,
   "metadata": {
    "colab": {
     "base_uri": "https://localhost:8080/"
    },
    "id": "7rLYsnDlBSKS",
    "outputId": "64cbf1b8-d5ec-4b62-86c2-8aa593f4328b"
   },
   "outputs": [
    {
     "data": {
      "text/plain": [
       "TextBlob(\"His is a sample sentence, showing off the stop words infiltration and other methods which can help during text processing.\")"
      ]
     },
     "execution_count": 92,
     "metadata": {},
     "output_type": "execute_result"
    }
   ],
   "source": [
    "text2.correct()"
   ]
  },
  {
   "cell_type": "markdown",
   "metadata": {
    "id": "1EoTW2bwBSKW"
   },
   "source": [
    "### N-grams\n",
    "\n",
    "You can use this method to identify words that co-occur – meaning they commonly appear together. Bigrams (two adjacent words) and trigrams (three adjacent words) are the most common types of collocations found in the text. For example, keep in touch, or product launch are common collocations."
   ]
  },
  {
   "cell_type": "code",
   "execution_count": 93,
   "metadata": {
    "colab": {
     "base_uri": "https://localhost:8080/"
    },
    "id": "WZaa-VLDBSKX",
    "outputId": "6925a150-a84d-4a37-ebdf-a8afb27dce98"
   },
   "outputs": [
    {
     "data": {
      "text/plain": [
       "[WordList(['This', 'is']),\n",
       " WordList(['is', 'a']),\n",
       " WordList(['a', 'sample']),\n",
       " WordList(['sample', 'sentence']),\n",
       " WordList(['sentence', 'showing']),\n",
       " WordList(['showing', 'off']),\n",
       " WordList(['off', 'the']),\n",
       " WordList(['the', 'stop']),\n",
       " WordList(['stop', 'words']),\n",
       " WordList(['words', 'filtration']),\n",
       " WordList(['filtration', 'and']),\n",
       " WordList(['and', 'other']),\n",
       " WordList(['other', 'methods']),\n",
       " WordList(['methods', 'which']),\n",
       " WordList(['which', 'can']),\n",
       " WordList(['can', 'help']),\n",
       " WordList(['help', 'during']),\n",
       " WordList(['during', 'text']),\n",
       " WordList(['text', 'processing'])]"
      ]
     },
     "execution_count": 93,
     "metadata": {},
     "output_type": "execute_result"
    }
   ],
   "source": [
    "text2.ngrams(n=2)"
   ]
  },
  {
   "cell_type": "markdown",
   "metadata": {
    "id": "i6h-sedMBSKf"
   },
   "source": [
    "### Translation and Language Detection"
   ]
  },
  {
   "cell_type": "code",
   "execution_count": 94,
   "metadata": {
    "colab": {
     "base_uri": "https://localhost:8080/",
     "height": 35
    },
    "id": "TL3tq_URBSKg",
    "outputId": "0136c1a7-1e44-408f-e1e4-d1a7b1b83a09"
   },
   "outputs": [
    {
     "data": {
      "text/plain": [
       "'en'"
      ]
     },
     "execution_count": 94,
     "metadata": {},
     "output_type": "execute_result"
    }
   ],
   "source": [
    "text2.detect_language()"
   ]
  },
  {
   "cell_type": "code",
   "execution_count": 95,
   "metadata": {
    "colab": {
     "base_uri": "https://localhost:8080/"
    },
    "id": "RXwIYuxTBSKm",
    "outputId": "c0852cbf-970f-44d9-bdb7-78a151499211"
   },
   "outputs": [
    {
     "data": {
      "text/plain": [
       "TextBlob(\"Questa è una frase di esempio, che mostra il filtraggio delle parole di arresto e altri metodi che possono aiutare durante l'elaborazione del testo.\")"
      ]
     },
     "execution_count": 95,
     "metadata": {},
     "output_type": "execute_result"
    }
   ],
   "source": [
    "text2.translate(from_lang='en', to ='it')"
   ]
  },
  {
   "cell_type": "code",
   "execution_count": 96,
   "metadata": {
    "colab": {
     "base_uri": "https://localhost:8080/"
    },
    "id": "NnpOSSZEBSKq",
    "outputId": "c30dea35-659a-476b-e38c-c4becb4349df"
   },
   "outputs": [
    {
     "data": {
      "text/plain": [
       "TextBlob(\"Questa è una frase di esempio, che mostra il filtraggio delle parole di arresto e altri metodi che possono aiutare durante l'elaborazione del testo.\")"
      ]
     },
     "execution_count": 96,
     "metadata": {},
     "output_type": "execute_result"
    }
   ],
   "source": [
    "text2.translate(to= 'it')"
   ]
  },
  {
   "cell_type": "markdown",
   "metadata": {
    "id": "FRVxFKuUBSKu"
   },
   "source": [
    "# During text cleaning we should remeber about:\n",
    "\n",
    "\n",
    "- lowercase/uppercase etc.\n",
    "- stopwords\n",
    "- specific forms, e.g. URLs, hashtags, HTML\n",
    "- Emojis and Emoticons"
   ]
  },
  {
   "cell_type": "markdown",
   "metadata": {
    "id": "dWjm7FhLBSKv"
   },
   "source": [
    "# Other methods for text analysis"
   ]
  },
  {
   "cell_type": "markdown",
   "metadata": {
    "id": "AjS68W_YBSKw"
   },
   "source": [
    "## TF-IDF"
   ]
  },
  {
   "cell_type": "markdown",
   "metadata": {
    "id": "7ztnTWKdBSKw"
   },
   "source": [
    "article: https://www.sciencedirect.com/science/article/abs/pii/S0306457302000213\n",
    "\n",
    "TF-IDF is a statistical measure that evaluates how relevant a word is to a document in a collection of documents. <br>\n",
    "\n",
    "This is done by multiplying two metrics: \n",
    "- how many times a word appears in a document\n",
    "- the inverse document frequency of the word across a set of documents. <br>\n",
    "\n",
    "\n",
    "Multiplying these two numbers results in the TF-IDF score of a word in a document. The higher the score, the more relevant that word is in that particular document.\n",
    "\n",
    "$$tfidf(t,d,D) = tf(t,d) \\cdot idf(t,D) $$\n",
    "where\n",
    "$$ tf(t,d) = \\log(1+freg(1,d))$$\n",
    "$$idf(t,D) = \\log(\\frac{N}{count(d\\in D: t \\in d)})$$"
   ]
  },
  {
   "cell_type": "markdown",
   "metadata": {
    "id": "4LxrpJhEBSKx"
   },
   "source": []
  },
  {
   "cell_type": "markdown",
   "metadata": {
    "id": "KpHIjDkwBSKx"
   },
   "source": [
    "## Word cloud"
   ]
  },
  {
   "cell_type": "code",
   "execution_count": 97,
   "metadata": {},
   "outputs": [],
   "source": [
    "from wordcloud import WordCloud,STOPWORDS\n",
    "import matplotlib.pyplot as plt\n",
    "import numpy as np\n",
    "from PIL import Image"
   ]
  },
  {
   "cell_type": "code",
   "execution_count": 98,
   "metadata": {
    "id": "v-xy6BVTBSKy",
    "outputId": "88bf7dd3-0950-4b79-9ee6-519acd19e3e0"
   },
   "outputs": [
    {
     "data": {
      "image/png": "[encoded data removed]",
      "text/plain": [
       "<Figure size 432x288 with 1 Axes>"
      ]
     },
     "metadata": {
      "needs_background": "light"
     },
     "output_type": "display_data"
    }
   ],
   "source": [
    "wordcloud = WordCloud(stopwords=eng_stopwords).generate(text)\n",
    "plt.imshow(wordcloud, interpolation='bilinear')\n",
    "plt.axis(\"off\")\n",
    "plt.show()"
   ]
  },
  {
   "cell_type": "markdown",
   "metadata": {
    "id": "Gq1xwqGWBSK2"
   },
   "source": [
    "## Sentiment\n",
    "\n",
    "Sentiment analysis is a process by which information is analyzed through the use of natural language processing (NLP) and is determined to be of negative, positive, or neutral sentiment.\n",
    "\n",
    "### Text blob - PatternAnalyzer.\n",
    "https://jeffsabarman.medium.com/sentiment-analysis-vader-sentiment-vs-textblob-part-1-a8ccd2d610de\n",
    "\n",
    "\"The sentiment property returns a namedtuple of the form Sentiment(polarity, subjectivity). The polarity score is a float within the range [-1.0, 1.0]. The subjectivity is a float within the range [0.0, 1.0] where 0.0 is very objective and 1.0 is very subjective.\"\n",
    "<br>\n",
    "\n",
    "more: https://planspace.org/20150607-textblob_sentiment/ <br>\n",
    "<b> Based on defined scores.</b>\n",
    "    \n",
    "\"The sentiment analysis lexicon bundled in Pattern focuses on adjectives. It contains adjectives that occur frequently in customer reviews, hand-tagged with values for polarity and subjectivity.\""
   ]
  },
  {
   "cell_type": "code",
   "execution_count": 99,
   "metadata": {
    "id": "nN1rB_BKBSK3"
   },
   "outputs": [],
   "source": [
    "text3 = \"I am a life long Star Wars fan and this was the first time I came out disappointed. And I am not picky, I was mostly happy even with the last two movies, but this one is the worst Star Wars movie yet.\""
   ]
  },
  {
   "cell_type": "code",
   "execution_count": 100,
   "metadata": {
    "id": "3HOcBQYYBSLC"
   },
   "outputs": [],
   "source": [
    "text4 = TextBlob(text3)"
   ]
  },
  {
   "cell_type": "code",
   "execution_count": 101,
   "metadata": {
    "colab": {
     "base_uri": "https://localhost:8080/"
    },
    "id": "pieLKuEiBSLO",
    "outputId": "d68a9b10-4d6d-440e-b6dc-142ef64fa6f4"
   },
   "outputs": [
    {
     "data": {
      "text/plain": [
       "Sentiment(polarity=-0.125, subjectivity=0.5916666666666667)"
      ]
     },
     "execution_count": 101,
     "metadata": {},
     "output_type": "execute_result"
    }
   ],
   "source": [
    "text4.sentiment"
   ]
  },
  {
   "cell_type": "markdown",
   "metadata": {
    "id": "silYIwaiBSLW"
   },
   "source": [
    "This tells us that the English phrase has a polarity of about -0.125, meaning it is slightly negative, and subjectivity of about 0.597, meaning it is quite subjective. <br>\n",
    "\n",
    "The subjectivity is TextBlobs score of whether the statement is deemed as more opinion or fact-based. A higher subjectivity score means it is less objective, and therefore would be highly opinionated."
   ]
  },
  {
   "cell_type": "markdown",
   "metadata": {
    "id": "HZgzTKzhBSLX"
   },
   "source": [
    "### Text blob - NaiveBayesAnalyzer\n",
    "\n",
    "Naive Bayes analyzer that is trained on a dataset of movie reviews. Returns results as a named tuple of the form: Sentiment(classification, p_pos, p_neg) <br>\n",
    "\n",
    "This is \"an NLTK classifier trained on a movie reviews corpus.\""
   ]
  },
  {
   "cell_type": "code",
   "execution_count": 102,
   "metadata": {
    "colab": {
     "base_uri": "https://localhost:8080/"
    },
    "id": "QJrJmsvQBSLY",
    "outputId": "1bd4b0e1-1183-43d8-b2ea-e4fe217621b3"
   },
   "outputs": [
    {
     "data": {
      "text/plain": [
       "Sentiment(classification='pos', p_pos=0.6698389452963499, p_neg=0.33016105470364804)"
      ]
     },
     "execution_count": 102,
     "metadata": {},
     "output_type": "execute_result"
    }
   ],
   "source": [
    "from textblob.sentiments import NaiveBayesAnalyzer\n",
    "blob_object = TextBlob(text3, analyzer=NaiveBayesAnalyzer())\n",
    "blob_object.sentiment"
   ]
  },
  {
   "cell_type": "markdown",
   "metadata": {
    "id": "qNLInoykBSLq"
   },
   "source": [
    "## NLTK - Vader\n",
    "\n",
    "\"VADER (Valence Aware Dictionary and sEntiment Reasoner) is a lexicon and rule-based sentiment analysis tool that is specifically attuned to sentiments expressed in social media.\"\n",
    "\n",
    "https://github.com/cjhutto/vaderSentiment\n",
    "https://medium.com/analytics-vidhya/textblob-sentiment-analysis-vader-sentiment-vs-textblob-part-2-1d0739178b6d\n",
    "\n",
    "\n",
    "VADER take into account: Punctuation, Capitalization, Degree modifiers (hot vs extremely hot), Polarity shift due to Conjunctions (but),Catching Polarity Negation (not)"
   ]
  },
  {
   "cell_type": "code",
   "execution_count": 103,
   "metadata": {
    "colab": {
     "base_uri": "https://localhost:8080/"
    },
    "id": "NoJFJPZsBSLr",
    "outputId": "1d3be225-6578-4746-d5dc-98a364b6a3ca"
   },
   "outputs": [
    {
     "name": "stderr",
     "output_type": "stream",
     "text": [
      "[nltk_data] Downloading package vader_lexicon to\n",
      "[nltk_data]     C:\\Users\\patry\\AppData\\Roaming\\nltk_data...\n",
      "[nltk_data]   Package vader_lexicon is already up-to-date!\n"
     ]
    },
    {
     "data": {
      "text/plain": [
       "True"
      ]
     },
     "execution_count": 103,
     "metadata": {},
     "output_type": "execute_result"
    }
   ],
   "source": [
    "from nltk.sentiment.vader import SentimentIntensityAnalyzer\n",
    "nltk.download('vader_lexicon')"
   ]
  },
  {
   "cell_type": "code",
   "execution_count": 104,
   "metadata": {
    "colab": {
     "base_uri": "https://localhost:8080/"
    },
    "id": "-4kZicxKBSL5",
    "outputId": "4d8d88ee-0f47-40f8-e3b4-c47b2ddf1547"
   },
   "outputs": [
    {
     "data": {
      "text/plain": [
       "{'neg': 0.293, 'neu': 0.629, 'pos': 0.079, 'compound': -0.9169}"
      ]
     },
     "execution_count": 104,
     "metadata": {},
     "output_type": "execute_result"
    }
   ],
   "source": [
    "sid = SentimentIntensityAnalyzer()\n",
    "sid.polarity_scores(text3)"
   ]
  },
  {
   "cell_type": "markdown",
   "metadata": {
    "id": "eABgvuvGBSL8"
   },
   "source": [
    "## Which to choose?\n",
    "\n",
    "- What kind of dataset you have?\n",
    "\n",
    "interesting article: https://investigate.ai/investigating-sentiment-analysis/comparing-sentiment-analysis-tools/"
   ]
  },
  {
   "cell_type": "markdown",
   "metadata": {
    "id": "iTtjdzHmBSL9"
   },
   "source": [
    "# Word net\n",
    "\n",
    "- similarity\n",
    "- Synonyms\n",
    "- Antonyms"
   ]
  },
  {
   "cell_type": "code",
   "execution_count": 105,
   "metadata": {
    "id": "KAxgqNtYBSL-"
   },
   "outputs": [],
   "source": [
    "#nltk.download('wordnet')\n",
    "from nltk.corpus import wordnet "
   ]
  },
  {
   "cell_type": "code",
   "execution_count": 106,
   "metadata": {
    "id": "1VGq_t-hBSMC"
   },
   "outputs": [],
   "source": [
    "synset = wordnet.synsets(\"Corona\")"
   ]
  },
  {
   "cell_type": "code",
   "execution_count": 107,
   "metadata": {
    "colab": {
     "base_uri": "https://localhost:8080/"
    },
    "id": "C3meMZ2LBSMJ",
    "outputId": "67302361-101a-4302-d5b9-37e66a5ebd60"
   },
   "outputs": [
    {
     "name": "stdout",
     "output_type": "stream",
     "text": [
      "Word and Type : aureole.n.01\n",
      "Synonym of Travel is: aureole\n",
      "The meaning of the word : the outermost region of the sun's atmosphere; visible as a white halo during a solar eclipse\n",
      "Example of Travel : []\n"
     ]
    }
   ],
   "source": [
    "print('Word and Type : ' + synset[0].name())\n",
    "print('Synonym of Travel is: ' + synset[0].lemmas()[0].name())\n",
    "print('The meaning of the word : ' + synset[0].definition())\n",
    "print('Example of Travel : ' + str(synset[0].examples()))"
   ]
  },
  {
   "cell_type": "code",
   "execution_count": 108,
   "metadata": {
    "colab": {
     "base_uri": "https://localhost:8080/"
    },
    "id": "hTT57gInBSMb",
    "outputId": "db7cde96-dafb-4f2d-a257-dc240b14a552"
   },
   "outputs": [
    {
     "name": "stdout",
     "output_type": "stream",
     "text": [
      "Synonyms: ['aureole', 'corona', 'corona', 'corona_discharge', 'corona', 'corposant', \"St._Elmo's_fire\", \"Saint_Elmo's_fire\", \"Saint_Elmo's_light\", \"Saint_Ulmo's_fire\", \"Saint_Ulmo's_light\", 'electric_glow', 'corona', 'corona', 'corona']\n",
      "Antonyms: []\n"
     ]
    }
   ],
   "source": [
    "syn = list()\n",
    "ant = list()\n",
    "for synset in wordnet.synsets(\"Corona\"):\n",
    "    for lemma in synset.lemmas():\n",
    "        syn.append(lemma.name())    #add the synonyms\n",
    "        if lemma.antonyms():    #When antonyms are available, add them into the list\n",
    "            ant.append(lemma.antonyms()[0].name())\n",
    "print('Synonyms: ' + str(syn))\n",
    "print('Antonyms: ' + str(ant))"
   ]
  },
  {
   "cell_type": "code",
   "execution_count": 109,
   "metadata": {
    "colab": {
     "base_uri": "https://localhost:8080/"
    },
    "id": "AgHCh-PzBSMi",
    "outputId": "3fa2d68f-7eeb-4bbc-a844-60afda5cd7a1"
   },
   "outputs": [
    {
     "name": "stdout",
     "output_type": "stream",
     "text": [
      "Similarity: 0.21052631578947367\n"
     ]
    }
   ],
   "source": [
    "first_word = wordnet.synsets(\"Corona\",'n')[0]\n",
    "second_word = wordnet.synsets(\"Virus\",'n')[0]\n",
    "print('Similarity: ' + str(first_word.wup_similarity(second_word)))"
   ]
  },
  {
   "cell_type": "code",
   "execution_count": 110,
   "metadata": {
    "colab": {
     "base_uri": "https://localhost:8080/"
    },
    "id": "qkxCEm_8BSMl",
    "outputId": "fb872867-6185-4d1c-d1b7-566e9ee7b74a"
   },
   "outputs": [
    {
     "data": {
      "text/plain": [
       "[Synset('aureole.n.01'),\n",
       " Synset('corona.n.02'),\n",
       " Synset('corona_discharge.n.01'),\n",
       " Synset('corona.n.04'),\n",
       " Synset('corona.n.05'),\n",
       " Synset('corona.n.06')]"
      ]
     },
     "execution_count": 110,
     "metadata": {},
     "output_type": "execute_result"
    }
   ],
   "source": [
    "wordnet.synsets(\"Corona\",'n')"
   ]
  },
  {
   "cell_type": "markdown",
   "metadata": {
    "id": "t11vzbvTBSMr"
   },
   "source": [
    "# Ideas for text vizualizations"
   ]
  },
  {
   "cell_type": "markdown",
   "metadata": {
    "id": "q3PVPGEkBSMr"
   },
   "source": [
    "# wordcloud \n",
    "https://www.jasondavies.com/wordcloud/#\n",
    "- Word vizualizations (popularity)\n",
    "- Comparison for two groups of people eg. words used by democratic and republicans"
   ]
  },
  {
   "cell_type": "markdown",
   "metadata": {
    "id": "0zSxiTzxBSMt"
   },
   "source": [
    "## Booble cloud (also for comparison)\n",
    "https://archive.nytimes.com/www.nytimes.com/interactive/2012/09/06/us/politics/convention-word-counts.html#Obama"
   ]
  },
  {
   "cell_type": "markdown",
   "metadata": {
    "id": "hgAy1QLfBSMt"
   },
   "source": [
    "## word net for specific document - which word goes with other word\n",
    "http://vallandingham.me/textvis-talk/#54\n",
    "- it can be also implemented for characters"
   ]
  },
  {
   "cell_type": "markdown",
   "metadata": {
    "id": "aNyVbiXgBSMu"
   },
   "source": [
    "## Heatmaps for emotions\n",
    "https://kops.uni-konstanz.de/bitstream/handle/123456789/5492/Literature_Fingerprinting.pdf"
   ]
  },
  {
   "cell_type": "markdown",
   "metadata": {
    "id": "25aImdhjBSMu"
   },
   "source": [
    "## Usage of word in case of time \n",
    "https://projects.fivethirtyeight.com/reddit-ngram/?keyword=lol.win.omg.cute.fail.wtf&start=20071015&end=20170731&smoothing=10"
   ]
  },
  {
   "cell_type": "markdown",
   "metadata": {
    "id": "WJ-w1A6IBSMv"
   },
   "source": [
    "## Other\n",
    "https://textvis.lnu.se <br>\n",
    "https://trends.google.com/trends/?geo=US <br>\n",
    "https://trends.google.com/trends/trendingsearches/daily?geo=PL"
   ]
  },
  {
   "cell_type": "code",
   "execution_count": null,
   "metadata": {
    "id": "zGdpXU0HGW_Y"
   },
   "outputs": [],
   "source": []
  }
 ],
 "metadata": {
  "colab": {
   "collapsed_sections": [],
   "name": "AoUD - 4th classes - materials.ipynb",
   "provenance": []
  },
  "kernelspec": {
   "display_name": "Python 3 (ipykernel)",
   "language": "python",
   "name": "python3"
  },
  "language_info": {
   "codemirror_mode": {
    "name": "ipython",
    "version": 3
   },
   "file_extension": ".py",
   "mimetype": "text/x-python",
   "name": "python",
   "nbconvert_exporter": "python",
   "pygments_lexer": "ipython3",
   "version": "3.9.9"
  }
 },
 "nbformat": 4,
 "nbformat_minor": 1
}
